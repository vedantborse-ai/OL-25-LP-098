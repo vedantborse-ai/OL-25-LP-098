{
 "cells": [
  {
   "cell_type": "code",
   "execution_count": null,
   "id": "34aac206",
   "metadata": {},
   "outputs": [],
   "source": [
    "import pandas as pd\n",
    "import numpy as np\n",
    "from sklearn.model_selection import train_test_split\n",
    "from sklearn.metrics import accuracy_score, classification_report\n",
    "from sklearn.linear_model import LogisticRegression\n",
    "from sklearn.ensemble import RandomForestClassifier\n",
    "from xgboost import XGBClassifier\n",
    "from sklearn.metrics import mean_squared_error, r2_score\n",
    "from sklearn.linear_model import LinearRegression\n",
    "from sklearn.ensemble import RandomForestRegressor\n",
    "from xgboost import XGBRegressor\n",
    "import joblib"
   ]
  },
  {
   "cell_type": "code",
   "execution_count": 3,
   "id": "09074688",
   "metadata": {},
   "outputs": [
    {
     "name": "stdout",
     "output_type": "stream",
     "text": [
      "Data loaded successfully!\n"
     ]
    }
   ],
   "source": [
    "df_clean = joblib.load('cleaned_data.pkl')\n",
    "print(\"Data loaded successfully!\")"
   ]
  },
  {
   "cell_type": "code",
   "execution_count": 4,
   "id": "4708ee06",
   "metadata": {},
   "outputs": [],
   "source": [
    "df_numeric = df_clean.select_dtypes(include=[int, float]).copy()"
   ]
  },
  {
   "cell_type": "code",
   "execution_count": 5,
   "id": "767a4487",
   "metadata": {},
   "outputs": [],
   "source": [
    "if 'treatment_encoded' not in df_numeric.columns:\n",
    "    raise ValueError(\"'treatment_encoded' column is missing. Please check encoding step.\")"
   ]
  },
  {
   "cell_type": "code",
   "execution_count": 6,
   "id": "d8497793",
   "metadata": {},
   "outputs": [],
   "source": [
    "selected_columns = [\n",
    "    'self_employed_encoded',\n",
    "    'mental_health_consequence_encoded',\n",
    "    'family_history_encoded',\n",
    "    'work_interfere_encoded',\n",
    "    'benefits_encoded',\n",
    "    'care_options_encoded',\n",
    "    'wellness_program_encoded',\n",
    "    'seek_help_encoded',\n",
    "    'coworkers_encoded',\n",
    "    'supervisor_encoded',\n",
    "    'mental_health_interview_encoded'\n",
    "]"
   ]
  },
  {
   "cell_type": "code",
   "execution_count": 7,
   "id": "6b4516c0",
   "metadata": {},
   "outputs": [],
   "source": [
    "X = df_numeric[selected_columns]\n",
    "y = df_numeric['treatment_encoded']"
   ]
  },
  {
   "cell_type": "code",
   "execution_count": 8,
   "id": "a2f2841c",
   "metadata": {},
   "outputs": [],
   "source": [
    "X_train, X_test, y_train, y_test = train_test_split(\n",
    "    X, y, test_size=0.2, random_state=42\n",
    ")"
   ]
  },
  {
   "cell_type": "code",
   "execution_count": 9,
   "id": "dcc5e0c3",
   "metadata": {},
   "outputs": [],
   "source": [
    "models = {\n",
    "    \"Logistic Regression\": LogisticRegression(max_iter=1000),\n",
    "    \"Random Forest\": RandomForestClassifier(random_state=42),\n",
    "    \"XGBoost\": XGBClassifier(n_estimators=100, random_state=42, learning_rate=0.1, use_label_encoder=False, eval_metric='logloss')\n",
    "}"
   ]
  },
  {
   "cell_type": "code",
   "execution_count": 10,
   "id": "715cc9b4",
   "metadata": {},
   "outputs": [
    {
     "name": "stdout",
     "output_type": "stream",
     "text": [
      "\n",
      "Logistic Regression Classification Report:\n",
      "              precision    recall  f1-score   support\n",
      "\n",
      "           0       0.70      0.80      0.75       108\n",
      "           1       0.82      0.74      0.78       139\n",
      "\n",
      "    accuracy                           0.77       247\n",
      "   macro avg       0.76      0.77      0.76       247\n",
      "weighted avg       0.77      0.77      0.77       247\n",
      "\n",
      "\n",
      "Random Forest Classification Report:\n",
      "              precision    recall  f1-score   support\n",
      "\n",
      "           0       0.70      0.79      0.74       108\n",
      "           1       0.82      0.74      0.78       139\n",
      "\n",
      "    accuracy                           0.76       247\n",
      "   macro avg       0.76      0.76      0.76       247\n",
      "weighted avg       0.77      0.76      0.76       247\n",
      "\n",
      "\n",
      "XGBoost Classification Report:\n",
      "              precision    recall  f1-score   support\n",
      "\n",
      "           0       0.71      0.81      0.75       108\n",
      "           1       0.83      0.74      0.78       139\n",
      "\n",
      "    accuracy                           0.77       247\n",
      "   macro avg       0.77      0.77      0.77       247\n",
      "weighted avg       0.78      0.77      0.77       247\n",
      "\n"
     ]
    },
    {
     "name": "stderr",
     "output_type": "stream",
     "text": [
      "c:\\Users\\HP\\AppData\\Local\\Programs\\Python\\Python313\\Lib\\site-packages\\xgboost\\training.py:183: UserWarning: [22:23:49] WARNING: C:\\actions-runner\\_work\\xgboost\\xgboost\\src\\learner.cc:738: \n",
      "Parameters: { \"use_label_encoder\" } are not used.\n",
      "\n",
      "  bst.update(dtrain, iteration=i, fobj=obj)\n"
     ]
    }
   ],
   "source": [
    "results = []\n",
    "for name, model in models.items():\n",
    "    model.fit(X_train, y_train)\n",
    "    y_pred = model.predict(X_test)\n",
    "    \n",
    "    acc = accuracy_score(y_test, y_pred)\n",
    "    results.append({\n",
    "        \"Model\": name,\n",
    "        \"Accuracy\": acc\n",
    "    })\n",
    "    \n",
    "    print(f\"\\n{name} Classification Report:\")\n",
    "    print(classification_report(y_test, y_pred))"
   ]
  },
  {
   "cell_type": "code",
   "execution_count": 11,
   "id": "bfb49245",
   "metadata": {},
   "outputs": [
    {
     "name": "stdout",
     "output_type": "stream",
     "text": [
      "\n",
      "Accuracy Summary:\n",
      "                 Model  Accuracy\n",
      "0  Logistic Regression  0.765182\n",
      "1        Random Forest  0.761134\n",
      "2              XGBoost  0.769231\n"
     ]
    }
   ],
   "source": [
    "results_df = pd.DataFrame(results)\n",
    "print(\"\\nAccuracy Summary:\")\n",
    "print(results_df)"
   ]
  },
  {
   "cell_type": "code",
   "execution_count": 12,
   "id": "fcb141a0",
   "metadata": {},
   "outputs": [
    {
     "data": {
      "text/plain": [
       "['df_numeric.pkl']"
      ]
     },
     "execution_count": 12,
     "metadata": {},
     "output_type": "execute_result"
    }
   ],
   "source": [
    "joblib.dump(df_numeric, 'df_numeric.pkl')"
   ]
  }
 ],
 "metadata": {
  "kernelspec": {
   "display_name": "Python 3",
   "language": "python",
   "name": "python3"
  },
  "language_info": {
   "codemirror_mode": {
    "name": "ipython",
    "version": 3
   },
   "file_extension": ".py",
   "mimetype": "text/x-python",
   "name": "python",
   "nbconvert_exporter": "python",
   "pygments_lexer": "ipython3",
   "version": "3.13.1"
  }
 },
 "nbformat": 4,
 "nbformat_minor": 5
}
